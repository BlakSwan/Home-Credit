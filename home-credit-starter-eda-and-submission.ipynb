{
 "cells": [
  {
   "cell_type": "code",
   "execution_count": null,
   "id": "931412fd",
   "metadata": {
    "_cell_guid": "b1076dfc-b9ad-4769-8c92-a6c4dae69d19",
    "_kg_hide-input": true,
    "_kg_hide-output": true,
    "_uuid": "8f2839f25d086af736a60e9eeb907d3b93b6e0e5",
    "execution": {
     "iopub.execute_input": "2024-02-08T14:20:04.298302Z",
     "iopub.status.busy": "2024-02-08T14:20:04.297738Z",
     "iopub.status.idle": "2024-02-08T14:20:07.839539Z",
     "shell.execute_reply": "2024-02-08T14:20:07.838434Z"
    },
    "papermill": {
     "duration": 3.552776,
     "end_time": "2024-02-08T14:20:07.842398",
     "exception": false,
     "start_time": "2024-02-08T14:20:04.289622",
     "status": "completed"
    },
    "tags": []
   },
   "outputs": [],
   "source": [
    "import mlflow\n",
    "from mlflow.models import infer_signature\n",
    "from config import run_name\n",
    "import polars as pl\n",
    "import numpy as np\n",
    "import pandas as pd\n",
    "import lightgbm as lgb\n",
    "from sklearn.model_selection import train_test_split\n",
    "from sklearn.metrics import roc_auc_score \n",
    "import warnings\n",
    "\n",
    "warnings.filterwarnings('ignore')\n",
    "\n",
    "dataPath = \"/Users/chrisjackson/Downloads/home-credit-credit-risk-model-stability/\"\n"
   ]
  },
  {
   "cell_type": "code",
   "execution_count": null,
   "id": "d1caf714",
   "metadata": {},
   "outputs": [],
   "source": [
    "# NOTE: review the links mentioned above for guidance on connecting to a managed tracking server, such as the free Databricks Community Edition\n",
    "\n",
    "mlflow.set_tracking_uri(uri=\"http://127.0.0.1:8080\")\n",
    "\n",
    "### NOTE:RUN THIS IN BASH TO START MLFLOW TRACKING SERVER ###\n",
    "# mlflow server --host 127.0.0.1 --port 8080\n"
   ]
  },
  {
   "cell_type": "markdown",
   "id": "f729ca9b",
   "metadata": {
    "papermill": {
     "duration": 0.005965,
     "end_time": "2024-02-08T14:20:07.854738",
     "exception": false,
     "start_time": "2024-02-08T14:20:07.848773",
     "status": "completed"
    },
    "tags": []
   },
   "source": [
    "## **Loading the Data**\n",
    "\n",
    "We will now load the data and get it in the right format. We will conduct exploratory data analysis and create a baseline submission that we can iterate and improve on."
   ]
  },
  {
   "cell_type": "code",
   "execution_count": null,
   "id": "f02dff36",
   "metadata": {
    "execution": {
     "iopub.execute_input": "2024-02-08T14:20:07.868385Z",
     "iopub.status.busy": "2024-02-08T14:20:07.868001Z",
     "iopub.status.idle": "2024-02-08T14:20:07.875445Z",
     "shell.execute_reply": "2024-02-08T14:20:07.874408Z"
    },
    "papermill": {
     "duration": 0.016594,
     "end_time": "2024-02-08T14:20:07.877463",
     "exception": false,
     "start_time": "2024-02-08T14:20:07.860869",
     "status": "completed"
    },
    "tags": []
   },
   "outputs": [],
   "source": [
    "def set_table_dtypes(df: pl.DataFrame) -> pl.DataFrame:\n",
    "    # implement here all desired dtypes for tables\n",
    "    # the following is just an example\n",
    "    for col in df.columns:\n",
    "        # last letter of column name will help you determine the type\n",
    "        if col[-1] in (\"P\", \"A\"):\n",
    "            df = df.with_columns(pl.col(col).cast(pl.Float64).alias(col))\n",
    "\n",
    "    return df\n",
    "\n",
    "def convert_strings(df: pd.DataFrame) -> pd.DataFrame:\n",
    "    for col in df.columns:  \n",
    "        if df[col].dtype.name in ['object', 'string']:\n",
    "            df[col] = df[col].astype(\"string\").astype('category')\n",
    "            current_categories = df[col].cat.categories\n",
    "            new_categories = current_categories.to_list() + [\"Unknown\"]\n",
    "            new_dtype = pd.CategoricalDtype(categories=new_categories, ordered=True)\n",
    "            df[col] = df[col].astype(new_dtype)\n",
    "    return df"
   ]
  },
  {
   "cell_type": "code",
   "execution_count": null,
   "id": "a9be88b6",
   "metadata": {
    "execution": {
     "iopub.execute_input": "2024-02-08T14:20:07.891843Z",
     "iopub.status.busy": "2024-02-08T14:20:07.891208Z",
     "iopub.status.idle": "2024-02-08T14:20:22.093886Z",
     "shell.execute_reply": "2024-02-08T14:20:22.092933Z"
    },
    "papermill": {
     "duration": 14.212446,
     "end_time": "2024-02-08T14:20:22.096165",
     "exception": false,
     "start_time": "2024-02-08T14:20:07.883719",
     "status": "completed"
    },
    "tags": []
   },
   "outputs": [],
   "source": [
    "train_basetable = pl.read_csv(dataPath + \"csv_files/train/train_base.csv\")\n",
    "train_static = pl.concat(\n",
    "    [\n",
    "        pl.read_csv(dataPath + \"csv_files/train/train_static_0_0.csv\").pipe(set_table_dtypes),\n",
    "        pl.read_csv(dataPath + \"csv_files/train/train_static_0_1.csv\").pipe(set_table_dtypes),\n",
    "    ],\n",
    "    how=\"vertical_relaxed\",\n",
    ")\n",
    "train_static_cb = pl.read_csv(dataPath + \"csv_files/train/train_static_cb_0.csv\").pipe(set_table_dtypes)\n",
    "train_person_1 = pl.read_csv(dataPath + \"csv_files/train/train_person_1.csv\").pipe(set_table_dtypes) \n",
    "train_credit_bureau_b_2 = pl.read_csv(dataPath + \"csv_files/train/train_credit_bureau_b_2.csv\").pipe(set_table_dtypes) "
   ]
  },
  {
   "cell_type": "code",
   "execution_count": null,
   "id": "d8686d0b",
   "metadata": {
    "execution": {
     "iopub.execute_input": "2024-02-08T14:20:22.111185Z",
     "iopub.status.busy": "2024-02-08T14:20:22.110192Z",
     "iopub.status.idle": "2024-02-08T14:20:22.155672Z",
     "shell.execute_reply": "2024-02-08T14:20:22.154721Z"
    },
    "papermill": {
     "duration": 0.05585,
     "end_time": "2024-02-08T14:20:22.158494",
     "exception": false,
     "start_time": "2024-02-08T14:20:22.102644",
     "status": "completed"
    },
    "tags": []
   },
   "outputs": [],
   "source": [
    "train_static"
   ]
  },
  {
   "cell_type": "code",
   "execution_count": null,
   "id": "de42ad3d",
   "metadata": {
    "execution": {
     "iopub.execute_input": "2024-02-08T14:20:22.173089Z",
     "iopub.status.busy": "2024-02-08T14:20:22.172752Z",
     "iopub.status.idle": "2024-02-08T14:20:22.219912Z",
     "shell.execute_reply": "2024-02-08T14:20:22.219110Z"
    },
    "papermill": {
     "duration": 0.056903,
     "end_time": "2024-02-08T14:20:22.222024",
     "exception": false,
     "start_time": "2024-02-08T14:20:22.165121",
     "status": "completed"
    },
    "tags": []
   },
   "outputs": [],
   "source": [
    "test_basetable = pl.read_csv(dataPath + \"csv_files/test/test_base.csv\")\n",
    "test_static = pl.concat(\n",
    "    [\n",
    "        pl.read_csv(dataPath + \"csv_files/test/test_static_0_0.csv\").pipe(set_table_dtypes),\n",
    "        pl.read_csv(dataPath + \"csv_files/test/test_static_0_1.csv\").pipe(set_table_dtypes),\n",
    "        pl.read_csv(dataPath + \"csv_files/test/test_static_0_2.csv\").pipe(set_table_dtypes),\n",
    "    ],\n",
    "    how=\"vertical_relaxed\",\n",
    ")\n",
    "test_static_cb = pl.read_csv(dataPath + \"csv_files/test/test_static_cb_0.csv\").pipe(set_table_dtypes)\n",
    "test_person_1 = pl.read_csv(dataPath + \"csv_files/test/test_person_1.csv\").pipe(set_table_dtypes) \n",
    "test_credit_bureau_b_2 = pl.read_csv(dataPath + \"csv_files/test/test_credit_bureau_b_2.csv\").pipe(set_table_dtypes) "
   ]
  },
  {
   "cell_type": "markdown",
   "id": "e5aa6e9c",
   "metadata": {},
   "source": [
    "## Define an MLflow Experiment\n",
    "\n",
    "In order to group any distinct runs of a particular project or idea together, we can define an Experiment that will group each iteration (runs) together. \n",
    "Defining a unique name that is relevant to what we're working on helps with organization and reduces the amount of work (searching) to find our runs later on. "
   ]
  },
  {
   "cell_type": "code",
   "execution_count": null,
   "id": "8bd17c87",
   "metadata": {},
   "outputs": [],
   "source": [
    "def get_or_create_experiment(experiment_name):\n",
    "    \"\"\"\n",
    "    Retrieve the ID of an existing MLflow experiment or create a new one if it doesn't exist.\n",
    "\n",
    "    This function checks if an experiment with the given name exists within MLflow.\n",
    "    If it does, the function returns its ID. If not, it creates a new experiment\n",
    "    with the provided name and returns its ID.\n",
    "\n",
    "    Parameters:\n",
    "    - experiment_name (str): Name of the MLflow experiment.\n",
    "\n",
    "    Returns:\n",
    "    - str: ID of the existing or newly created MLflow experiment.\n",
    "    \"\"\"\n",
    "\n",
    "    if experiment := mlflow.get_experiment_by_name(experiment_name):\n",
    "        return experiment.experiment_id\n",
    "    else:\n",
    "        return mlflow.create_experiment(experiment_name)\n"
   ]
  },
  {
   "cell_type": "code",
   "execution_count": null,
   "id": "48aed745",
   "metadata": {},
   "outputs": [],
   "source": [
    "experiment_id = get_or_create_experiment(\"MLflow Home Credit Test\")"
   ]
  },
  {
   "cell_type": "code",
   "execution_count": null,
   "id": "aea1bf3c",
   "metadata": {},
   "outputs": [],
   "source": [
    "experiment_id"
   ]
  },
  {
   "cell_type": "markdown",
   "id": "860c269b",
   "metadata": {
    "papermill": {
     "duration": 0.006293,
     "end_time": "2024-02-08T14:20:22.235164",
     "exception": false,
     "start_time": "2024-02-08T14:20:22.228871",
     "status": "completed"
    },
    "tags": []
   },
   "source": [
    "## **Feature Engineering**\n",
    "\n",
    "We will join the tables on case_id. There are additional ways we can work with the data, but we will leave this as is for now."
   ]
  },
  {
   "cell_type": "code",
   "execution_count": null,
   "id": "1666ad10",
   "metadata": {
    "execution": {
     "iopub.execute_input": "2024-02-08T14:20:22.250191Z",
     "iopub.status.busy": "2024-02-08T14:20:22.249616Z",
     "iopub.status.idle": "2024-02-08T14:20:24.498059Z",
     "shell.execute_reply": "2024-02-08T14:20:24.497281Z"
    },
    "papermill": {
     "duration": 2.259234,
     "end_time": "2024-02-08T14:20:24.500804",
     "exception": false,
     "start_time": "2024-02-08T14:20:22.241570",
     "status": "completed"
    },
    "tags": []
   },
   "outputs": [],
   "source": [
    "# We need to use aggregation functions in tables with depth > 1, so tables that contain num_group1 column or \n",
    "# also num_group2 column.\n",
    "train_person_1_feats_1 = train_person_1.group_by(\"case_id\").agg(\n",
    "    pl.col(\"mainoccupationinc_384A\").max().alias(\"mainoccupationinc_384A_max\"),\n",
    "    (pl.col(\"incometype_1044T\") == \"SELFEMPLOYED\").max().alias(\"mainoccupationinc_384A_any_selfemployed\")\n",
    ")\n",
    "\n",
    "# Here num_group1=0 has special meaning, it is the person who applied for the loan.\n",
    "train_person_1_feats_2 = train_person_1.select([\"case_id\", \"num_group1\", \"housetype_905L\"]).filter(\n",
    "    pl.col(\"num_group1\") == 0\n",
    ").drop(\"num_group1\").rename({\"housetype_905L\": \"person_housetype\"})\n",
    "\n",
    "# Here we have num_goup1 and num_group2, so we need to aggregate again.\n",
    "train_credit_bureau_b_2_feats = train_credit_bureau_b_2.group_by(\"case_id\").agg(\n",
    "    pl.col(\"pmts_pmtsoverdue_635A\").max().alias(\"pmts_pmtsoverdue_635A_max\"),\n",
    "    (pl.col(\"pmts_dpdvalue_108P\") > 31).max().alias(\"pmts_dpdvalue_108P_over31\")\n",
    ")\n",
    "\n",
    "# We will process in this examples only A-type and M-type columns, so we need to select them.\n",
    "selected_static_cols = []\n",
    "for col in train_static.columns:\n",
    "    if col[-1] in (\"A\", \"M\"):\n",
    "        selected_static_cols.append(col)\n",
    "print(selected_static_cols)\n",
    "\n",
    "selected_static_cb_cols = []\n",
    "for col in train_static_cb.columns:\n",
    "    if col[-1] in (\"A\", \"M\"):\n",
    "        selected_static_cb_cols.append(col)\n",
    "print(selected_static_cb_cols)\n",
    "\n",
    "# Join all tables together.\n",
    "data = train_basetable.join(\n",
    "    train_static.select([\"case_id\"]+selected_static_cols), how=\"left\", on=\"case_id\"\n",
    ").join(\n",
    "    train_static_cb.select([\"case_id\"]+selected_static_cb_cols), how=\"left\", on=\"case_id\"\n",
    ").join(\n",
    "    train_person_1_feats_1, how=\"left\", on=\"case_id\"\n",
    ").join(\n",
    "    train_person_1_feats_2, how=\"left\", on=\"case_id\"\n",
    ").join(\n",
    "    train_credit_bureau_b_2_feats, how=\"left\", on=\"case_id\"\n",
    ")"
   ]
  },
  {
   "cell_type": "code",
   "execution_count": null,
   "id": "78abaf4a",
   "metadata": {
    "execution": {
     "iopub.execute_input": "2024-02-08T14:20:24.517092Z",
     "iopub.status.busy": "2024-02-08T14:20:24.516740Z",
     "iopub.status.idle": "2024-02-08T14:20:24.530934Z",
     "shell.execute_reply": "2024-02-08T14:20:24.530140Z"
    },
    "papermill": {
     "duration": 0.023853,
     "end_time": "2024-02-08T14:20:24.532860",
     "exception": false,
     "start_time": "2024-02-08T14:20:24.509007",
     "status": "completed"
    },
    "tags": []
   },
   "outputs": [],
   "source": [
    "test_person_1_feats_1 = test_person_1.group_by(\"case_id\").agg(\n",
    "    pl.col(\"mainoccupationinc_384A\").max().alias(\"mainoccupationinc_384A_max\"),\n",
    "    (pl.col(\"incometype_1044T\") == \"SELFEMPLOYED\").max().alias(\"mainoccupationinc_384A_any_selfemployed\")\n",
    ")\n",
    "\n",
    "test_person_1_feats_2 = test_person_1.select([\"case_id\", \"num_group1\", \"housetype_905L\"]).filter(\n",
    "    pl.col(\"num_group1\") == 0\n",
    ").drop(\"num_group1\").rename({\"housetype_905L\": \"person_housetype\"})\n",
    "\n",
    "test_credit_bureau_b_2_feats = test_credit_bureau_b_2.group_by(\"case_id\").agg(\n",
    "    pl.col(\"pmts_pmtsoverdue_635A\").max().alias(\"pmts_pmtsoverdue_635A_max\"),\n",
    "    (pl.col(\"pmts_dpdvalue_108P\") > 31).max().alias(\"pmts_dpdvalue_108P_over31\")\n",
    ")\n",
    "\n",
    "data_submission = test_basetable.join(\n",
    "    test_static.select([\"case_id\"]+selected_static_cols), how=\"left\", on=\"case_id\"\n",
    ").join(\n",
    "    test_static_cb.select([\"case_id\"]+selected_static_cb_cols), how=\"left\", on=\"case_id\"\n",
    ").join(\n",
    "    test_person_1_feats_1, how=\"left\", on=\"case_id\"\n",
    ").join(\n",
    "    test_person_1_feats_2, how=\"left\", on=\"case_id\"\n",
    ").join(\n",
    "    test_credit_bureau_b_2_feats, how=\"left\", on=\"case_id\"\n",
    ")"
   ]
  },
  {
   "cell_type": "code",
   "execution_count": null,
   "id": "9ed92be7",
   "metadata": {},
   "outputs": [],
   "source": [
    "# Set the current active MLflow experiment\n",
    "mlflow.set_experiment(experiment_id=experiment_id)"
   ]
  },
  {
   "cell_type": "code",
   "execution_count": null,
   "id": "5ae3b4a5",
   "metadata": {
    "execution": {
     "iopub.execute_input": "2024-02-08T14:20:24.548695Z",
     "iopub.status.busy": "2024-02-08T14:20:24.547997Z",
     "iopub.status.idle": "2024-02-08T14:20:31.070719Z",
     "shell.execute_reply": "2024-02-08T14:20:31.069554Z"
    },
    "papermill": {
     "duration": 6.533727,
     "end_time": "2024-02-08T14:20:31.073539",
     "exception": false,
     "start_time": "2024-02-08T14:20:24.539812",
     "status": "completed"
    },
    "tags": []
   },
   "outputs": [],
   "source": [
    "case_ids = data[\"case_id\"].unique().shuffle(seed=1)\n",
    "case_ids_train, case_ids_test = train_test_split(case_ids, train_size=0.6, random_state=1)\n",
    "case_ids_valid, case_ids_test = train_test_split(case_ids_test, train_size=0.5, random_state=1)\n",
    "\n",
    "\n",
    "\n",
    "\n",
    "cols_pred = []\n",
    "for col in data.columns:\n",
    "    if col[-1].isupper() and col[:-1].islower():\n",
    "        cols_pred.append(col)\n",
    "\n",
    "print(cols_pred)\n",
    "\n",
    "def from_polars_to_pandas(case_ids: pl.DataFrame) -> pl.DataFrame:\n",
    "    return (\n",
    "        data.filter(pl.col(\"case_id\").is_in(case_ids))[[\"case_id\", \"WEEK_NUM\", \"target\"]].to_pandas(),\n",
    "        data.filter(pl.col(\"case_id\").is_in(case_ids))[cols_pred].to_pandas(),\n",
    "        data.filter(pl.col(\"case_id\").is_in(case_ids))[\"target\"].to_pandas()\n",
    "    )\n",
    "\n",
    "base_train, X_train, y_train = from_polars_to_pandas(case_ids_train)\n",
    "base_valid, X_valid, y_valid = from_polars_to_pandas(case_ids_valid)\n",
    "base_test, X_test, y_test = from_polars_to_pandas(case_ids_test)\n",
    "\n",
    "for df in [X_train, X_valid, X_test]:\n",
    "    df = convert_strings(df)"
   ]
  },
  {
   "cell_type": "code",
   "execution_count": null,
   "id": "2f84c1b5",
   "metadata": {
    "execution": {
     "iopub.execute_input": "2024-02-08T14:20:31.090167Z",
     "iopub.status.busy": "2024-02-08T14:20:31.089743Z",
     "iopub.status.idle": "2024-02-08T14:20:31.095666Z",
     "shell.execute_reply": "2024-02-08T14:20:31.094476Z"
    },
    "papermill": {
     "duration": 0.017552,
     "end_time": "2024-02-08T14:20:31.098230",
     "exception": false,
     "start_time": "2024-02-08T14:20:31.080678",
     "status": "completed"
    },
    "tags": []
   },
   "outputs": [],
   "source": [
    "print(f\"Train: {X_train.shape}\")\n",
    "print(f\"Valid: {X_valid.shape}\")\n",
    "print(f\"Test: {X_test.shape}\")"
   ]
  },
  {
   "cell_type": "markdown",
   "id": "26015505",
   "metadata": {
    "papermill": {
     "duration": 0.006525,
     "end_time": "2024-02-08T14:20:31.111753",
     "exception": false,
     "start_time": "2024-02-08T14:20:31.105228",
     "status": "completed"
    },
    "tags": []
   },
   "source": [
    "## **Machine Learning**\n",
    "\n",
    "We will train a LightGBM model and submit predictions. \n",
    "\n",
    "## **Optuna Hyperparameter Optimization**\n",
    "[Optuna](https://optuna.org) is an open source hyperparameter optimization framework to automate hyperparameter search. It offers an efficient way to find ideal hyperparameters and many visualizations of the results and search space. "
   ]
  },
  {
   "cell_type": "code",
   "execution_count": null,
   "id": "ac25bbdf",
   "metadata": {
    "execution": {
     "iopub.execute_input": "2024-02-08T14:20:31.127360Z",
     "iopub.status.busy": "2024-02-08T14:20:31.126910Z",
     "iopub.status.idle": "2024-02-08T14:29:07.030264Z",
     "shell.execute_reply": "2024-02-08T14:29:07.029224Z"
    },
    "papermill": {
     "duration": 515.913954,
     "end_time": "2024-02-08T14:29:07.032579",
     "exception": false,
     "start_time": "2024-02-08T14:20:31.118625",
     "status": "completed"
    },
    "tags": []
   },
   "outputs": [],
   "source": [
    "import optuna\n",
    "\n",
    "# override Optuna's default logging to ERROR only\n",
    "optuna.logging.set_verbosity(optuna.logging.ERROR)\n",
    "\n",
    "# define a logging callback that will report on only new challenger parameter configurations if a\n",
    "# trial has usurped the state of 'best conditions'\n",
    "\n",
    "\n",
    "def champion_callback(study, frozen_trial):\n",
    "    \"\"\"\n",
    "    Logging callback that will report when a new trial iteration improves upon existing\n",
    "    best trial values.\n",
    "    \"\"\"\n",
    "\n",
    "    winner = study.user_attrs.get(\"winner\", None)\n",
    "\n",
    "    if study.best_value and winner != study.best_value:\n",
    "        study.set_user_attr(\"winner\", study.best_value)\n",
    "        if winner:\n",
    "            improvement_percent = (abs(winner - study.best_value) / study.best_value) * 100\n",
    "            print(\n",
    "                f\"Trial {frozen_trial.number} achieved value: {frozen_trial.value} with \"\n",
    "                f\"{improvement_percent: .4f}% improvement\"\n",
    "            )\n",
    "        else:\n",
    "            print(f\"Initial trial {frozen_trial.number} achieved value: {frozen_trial.value}\")\n"
   ]
  },
  {
   "cell_type": "code",
   "execution_count": null,
   "id": "b08b209e",
   "metadata": {},
   "outputs": [],
   "source": [
    "\n",
    "# Create a dataset for lightgbm\n",
    "lgb_train = lgb.Dataset(X_train, label=y_train)\n",
    "lgb_valid = lgb.Dataset(X_valid, label=y_valid, reference=lgb_train)\n",
    "\n",
    "# Define the objective function for Optuna\n",
    "def objective(trial):\n",
    "    with mlflow.start_run(nested=True):\n",
    "        param = {\n",
    "            \"boosting_type\": trial.suggest_categorical(\"boosting_type\", [\"gbdt\", \"rf\", \"dart\"]),\n",
    "            \"objective\": \"binary\",\n",
    "            \"metric\": \"auc\",\n",
    "            \"max_depth\": trial.suggest_int(\"max_depth\", 1, 10),\n",
    "            \"num_leaves\": trial.suggest_int(\"num_leaves\", 20, 60),\n",
    "            \"learning_rate\": trial.suggest_float(\"learning_rate\", 0.01, 0.2),\n",
    "            \"feature_fraction\": trial.suggest_float(\"feature_fraction\", 0.6, 1.0),\n",
    "            \"bagging_fraction\": trial.suggest_float(\"bagging_fraction\", 0.6, 1.0),\n",
    "            \"bagging_freq\": trial.suggest_int(\"bagging_freq\", 1, 10),\n",
    "            \"min_child_samples\": trial.suggest_int(\"min_child_samples\", 5, 100),\n",
    "            \"lambda_l1\": trial.suggest_loguniform(\"lambda_l1\", 1e-8, 10.0),\n",
    "            \"lambda_l2\": trial.suggest_loguniform(\"lambda_l2\", 1e-8, 10.0),\n",
    "            \"n_estimators\": 1000,\n",
    "            \"verbose\": -1,\n",
    "            \"feature_pre_filter\": False,  # Explicitly disabling feature pre-filtering\n",
    "        }\n",
    "        \n",
    "        gbm = lgb.train(\n",
    "            param,\n",
    "            lgb_train,\n",
    "            valid_sets=lgb_valid,\n",
    "            callbacks=[lgb.log_evaluation(50), lgb.early_stopping(10)]\n",
    "        )\n",
    "        \n",
    "        preds = gbm.predict(X_valid)\n",
    "        auc = roc_auc_score(y_valid, preds)\n",
    "        \n",
    "        # Log to MLflow\n",
    "        mlflow.log_params(param)\n",
    "        mlflow.log_metric(\"auc\", auc)\n",
    "    return auc\n"
   ]
  },
  {
   "cell_type": "markdown",
   "id": "5f999daf",
   "metadata": {},
   "source": [
    "## GINI STABILITY   \n"
   ]
  },
  {
   "cell_type": "code",
   "execution_count": null,
   "id": "fce2a7fa",
   "metadata": {},
   "outputs": [],
   "source": [
    "def gini_stability(base, w_fallingrate=88.0, w_resstd=-0.5):\n",
    "    gini_in_time = base.loc[:, [\"WEEK_NUM\", \"target\", \"score\"]]\\\n",
    "        .sort_values(\"WEEK_NUM\")\\\n",
    "        .groupby(\"WEEK_NUM\")[[\"target\", \"score\"]]\\\n",
    "        .apply(lambda x: 2*roc_auc_score(x[\"target\"], x[\"score\"])-1).tolist()\n",
    "    \n",
    "    x = np.arange(len(gini_in_time))\n",
    "    y = gini_in_time\n",
    "    a, b = np.polyfit(x, y, 1)\n",
    "    y_hat = a*x + b\n",
    "    residuals = y - y_hat\n",
    "    res_std = np.std(residuals)\n",
    "    avg_gini = np.mean(gini_in_time)\n",
    "    return avg_gini + w_fallingrate * min(0, a) + w_resstd * res_std"
   ]
  },
  {
   "cell_type": "markdown",
   "id": "72ced13b",
   "metadata": {},
   "source": [
    "## MLFLOW TRAIN AND LOG"
   ]
  },
  {
   "cell_type": "code",
   "execution_count": null,
   "id": "0470cee2",
   "metadata": {},
   "outputs": [],
   "source": [
    "\n",
    "# Initiate the parent run and call the hyperparameter tuning child run logic\n",
    "with mlflow.start_run(experiment_id=experiment_id, run_name=run_name, nested=True):\n",
    "    # Initialize the Optuna study\n",
    "    study = optuna.create_study(direction=\"maximize\")\n",
    "    study.optimize(objective, n_trials=10, callbacks=[champion_callback])  \n",
    "        \n",
    "    # Log the best hyperparameters to MLflow\n",
    "    mlflow.log_params(study.best_params)\n",
    "    mlflow.log_metric(\"AUC\", study.best_value)\n",
    "        \n",
    "    # Log tags\n",
    "    mlflow.set_tags(\n",
    "        tags={\n",
    "            \"project\": \"Kaggle Home Credit Default Risk\",\n",
    "            \"optimizer_engine\": \"optuna\",\n",
    "            \"model_family\": \"lgbm\",\n",
    "            \"feature_set_version\": 1,\n",
    "        }\n",
    "    )\n",
    "\n",
    "    # Fit model instance\n",
    "    model = lgb.train(study.best_params, lgb_train)\n",
    "\n",
    "    # Add the preditions to the base table\n",
    "    base_train[\"score\"] = model.predict(X_train)\n",
    "    \n",
    "    # Calc the gini stability score\n",
    "    stability_score_train = gini_stability(base_train)\n",
    "    \n",
    "    # Log the gini stability score to MLflow\n",
    "    mlflow.log_metric(\"gini_stability\", stability_score_train)\n",
    "    \n",
    "    # Log the model to MLflow    \n",
    "    artifact_path = \"model\"\n",
    "\n",
    "    mlflow.lightgbm.log_model(model, artifact_path)\n",
    "\n",
    "    # Get the logged model uri so that we can load it from the artifact store\n",
    "    model_uri = mlflow.get_artifact_uri(artifact_path)\n",
    "\n"
   ]
  },
  {
   "cell_type": "markdown",
   "id": "34d7961e",
   "metadata": {
    "papermill": {
     "duration": 0.014457,
     "end_time": "2024-02-08T14:29:07.061589",
     "exception": false,
     "start_time": "2024-02-08T14:29:07.047132",
     "status": "completed"
    },
    "tags": []
   },
   "source": [
    "## Plot Visuals From Optuna Hyperparameter Optimization\n",
    "\n",
    "**plot_optimization_history** plots optimization history of all trials in a study. The blue dots show the AUC on each trial, and the red line - the best value attained."
   ]
  },
  {
   "cell_type": "code",
   "execution_count": null,
   "id": "0b9f725e",
   "metadata": {
    "execution": {
     "iopub.execute_input": "2024-02-08T14:29:07.092782Z",
     "iopub.status.busy": "2024-02-08T14:29:07.092075Z",
     "iopub.status.idle": "2024-02-08T14:29:07.998174Z",
     "shell.execute_reply": "2024-02-08T14:29:07.997101Z"
    },
    "papermill": {
     "duration": 0.924413,
     "end_time": "2024-02-08T14:29:08.000456",
     "exception": false,
     "start_time": "2024-02-08T14:29:07.076043",
     "status": "completed"
    },
    "tags": []
   },
   "outputs": [],
   "source": [
    "from optuna.visualization import plot_optimization_history\n",
    "\n",
    "plot_optimization_history(study)"
   ]
  },
  {
   "cell_type": "markdown",
   "id": "475c1e5c",
   "metadata": {
    "papermill": {
     "duration": 0.014278,
     "end_time": "2024-02-08T14:29:08.029444",
     "exception": false,
     "start_time": "2024-02-08T14:29:08.015166",
     "status": "completed"
    },
    "tags": []
   },
   "source": [
    "We will now use the best hyperparameters found by Optuna and train the model and make predictions."
   ]
  },
  {
   "cell_type": "code",
   "execution_count": null,
   "id": "3a6e7ef5",
   "metadata": {
    "execution": {
     "iopub.execute_input": "2024-02-08T14:29:08.060626Z",
     "iopub.status.busy": "2024-02-08T14:29:08.059957Z",
     "iopub.status.idle": "2024-02-08T14:29:08.065605Z",
     "shell.execute_reply": "2024-02-08T14:29:08.064766Z"
    },
    "papermill": {
     "duration": 0.023815,
     "end_time": "2024-02-08T14:29:08.067700",
     "exception": false,
     "start_time": "2024-02-08T14:29:08.043885",
     "status": "completed"
    },
    "tags": []
   },
   "outputs": [],
   "source": [
    "# Use the best parameters to train the final model\n",
    "best_params = study.best_params\n",
    "\n",
    "# You must manually add the parameters that were not tuned by Optuna back into the best_params dictionary\n",
    "best_params.update({\n",
    "    \"objective\": \"binary\",\n",
    "    \"metric\": \"auc\",\n",
    "    \"n_estimators\": 1000,\n",
    "    \"verbose\": -1,\n",
    "    \"feature_pre_filter\": False,  # Since it was explicitly set in the objective function\n",
    "})\n",
    "\n",
    "# Train the final model with the best parameters found\n",
    "gbm_final = lgb.train(\n",
    "    best_params,\n",
    "    lgb_train,\n",
    "    valid_sets=lgb_valid,\n",
    "    callbacks=[lgb.log_evaluation(50), lgb.early_stopping(10)]\n",
    ")"
   ]
  },
  {
   "cell_type": "code",
   "execution_count": null,
   "id": "7c7d715f",
   "metadata": {
    "execution": {
     "iopub.execute_input": "2024-02-08T14:29:41.617353Z",
     "iopub.status.busy": "2024-02-08T14:29:41.616568Z",
     "iopub.status.idle": "2024-02-08T14:29:54.052496Z",
     "shell.execute_reply": "2024-02-08T14:29:54.051652Z"
    },
    "papermill": {
     "duration": 12.454555,
     "end_time": "2024-02-08T14:29:54.054418",
     "exception": false,
     "start_time": "2024-02-08T14:29:41.599863",
     "status": "completed"
    },
    "tags": []
   },
   "outputs": [],
   "source": [
    "for base, X in [(base_train, X_train), (base_valid, X_valid), (base_test, X_test)]:\n",
    "    y_pred = gbm_final.predict(X, num_iteration=gbm_final.best_iteration)\n",
    "    base[\"score\"] = y_pred\n",
    "\n",
    "print(f'The AUC score on the train set is: {roc_auc_score(base_train[\"target\"], base_train[\"score\"])}') \n",
    "print(f'The AUC score on the valid set is: {roc_auc_score(base_valid[\"target\"], base_valid[\"score\"])}') \n",
    "print(f'The AUC score on the test set is: {roc_auc_score(base_test[\"target\"], base_test[\"score\"])}')  "
   ]
  },
  {
   "cell_type": "code",
   "execution_count": null,
   "id": "4144d002",
   "metadata": {
    "execution": {
     "iopub.execute_input": "2024-02-08T14:29:54.088683Z",
     "iopub.status.busy": "2024-02-08T14:29:54.087549Z",
     "iopub.status.idle": "2024-02-08T14:29:55.061355Z",
     "shell.execute_reply": "2024-02-08T14:29:55.060302Z"
    },
    "papermill": {
     "duration": 0.99309,
     "end_time": "2024-02-08T14:29:55.063632",
     "exception": false,
     "start_time": "2024-02-08T14:29:54.070542",
     "status": "completed"
    },
    "tags": []
   },
   "outputs": [],
   "source": [
    "def gini_stability(base, w_fallingrate=88.0, w_resstd=-0.5):\n",
    "    gini_in_time = base.loc[:, [\"WEEK_NUM\", \"target\", \"score\"]]\\\n",
    "        .sort_values(\"WEEK_NUM\")\\\n",
    "        .groupby(\"WEEK_NUM\")[[\"target\", \"score\"]]\\\n",
    "        .apply(lambda x: 2*roc_auc_score(x[\"target\"], x[\"score\"])-1).tolist()\n",
    "    \n",
    "    x = np.arange(len(gini_in_time))\n",
    "    y = gini_in_time\n",
    "    a, b = np.polyfit(x, y, 1)\n",
    "    y_hat = a*x + b\n",
    "    residuals = y - y_hat\n",
    "    res_std = np.std(residuals)\n",
    "    avg_gini = np.mean(gini_in_time)\n",
    "    return avg_gini + w_fallingrate * min(0, a) + w_resstd * res_std\n",
    "\n",
    "stability_score_train = gini_stability(base_train)\n",
    "stability_score_valid = gini_stability(base_valid)\n",
    "stability_score_test = gini_stability(base_test)\n",
    "\n",
    "print(f'The stability score on the train set is: {stability_score_train}') \n",
    "print(f'The stability score on the valid set is: {stability_score_valid}') \n",
    "print(f'The stability score on the test set is: {stability_score_test}')  "
   ]
  },
  {
   "cell_type": "markdown",
   "id": "915e8d6d",
   "metadata": {
    "papermill": {
     "duration": 0.015778,
     "end_time": "2024-02-08T14:29:55.095102",
     "exception": false,
     "start_time": "2024-02-08T14:29:55.079324",
     "status": "completed"
    },
    "tags": []
   },
   "source": [
    "## **Submission**\n",
    "\n",
    "Scoring the submission dataset is below, we need to take care of new categories. Then we save the score as a last step."
   ]
  },
  {
   "cell_type": "code",
   "execution_count": null,
   "id": "5d4b72b2",
   "metadata": {
    "execution": {
     "iopub.execute_input": "2024-02-08T14:29:55.128894Z",
     "iopub.status.busy": "2024-02-08T14:29:55.128292Z",
     "iopub.status.idle": "2024-02-08T14:29:55.224014Z",
     "shell.execute_reply": "2024-02-08T14:29:55.223253Z"
    },
    "papermill": {
     "duration": 0.115296,
     "end_time": "2024-02-08T14:29:55.226208",
     "exception": false,
     "start_time": "2024-02-08T14:29:55.110912",
     "status": "completed"
    },
    "tags": []
   },
   "outputs": [],
   "source": [
    "X_submission = data_submission[cols_pred].to_pandas()\n",
    "X_submission = convert_strings(X_submission)\n",
    "categorical_cols = X_train.select_dtypes(include=['category']).columns\n",
    "\n",
    "for col in categorical_cols:\n",
    "    train_categories = set(X_train[col].cat.categories)\n",
    "    submission_categories = set(X_submission[col].cat.categories)\n",
    "    new_categories = submission_categories - train_categories\n",
    "    X_submission.loc[X_submission[col].isin(new_categories), col] = \"Unknown\"\n",
    "    new_dtype = pd.CategoricalDtype(categories=train_categories, ordered=True)\n",
    "    X_train[col] = X_train[col].astype(new_dtype)\n",
    "    X_submission[col] = X_submission[col].astype(new_dtype)\n",
    "\n",
    "y_submission_pred = gbm_final.predict(X_submission, num_iteration=gbm_final.best_iteration)"
   ]
  },
  {
   "cell_type": "code",
   "execution_count": null,
   "id": "9853a178",
   "metadata": {
    "execution": {
     "iopub.execute_input": "2024-02-08T14:29:55.259391Z",
     "iopub.status.busy": "2024-02-08T14:29:55.258786Z",
     "iopub.status.idle": "2024-02-08T14:29:55.268177Z",
     "shell.execute_reply": "2024-02-08T14:29:55.267493Z"
    },
    "papermill": {
     "duration": 0.028257,
     "end_time": "2024-02-08T14:29:55.269992",
     "exception": false,
     "start_time": "2024-02-08T14:29:55.241735",
     "status": "completed"
    },
    "tags": []
   },
   "outputs": [],
   "source": [
    "submission = pd.DataFrame({\n",
    "    \"case_id\": data_submission[\"case_id\"].to_numpy(),\n",
    "    \"score\": y_submission_pred\n",
    "}).set_index('case_id')\n",
    "submission.to_csv(\"./submission.csv\")"
   ]
  },
  {
   "cell_type": "code",
   "execution_count": null,
   "id": "46178350",
   "metadata": {
    "execution": {
     "iopub.execute_input": "2024-02-08T14:29:55.359149Z",
     "iopub.status.busy": "2024-02-08T14:29:55.358544Z",
     "iopub.status.idle": "2024-02-08T14:29:55.369962Z",
     "shell.execute_reply": "2024-02-08T14:29:55.369281Z"
    },
    "papermill": {
     "duration": 0.08642,
     "end_time": "2024-02-08T14:29:55.371732",
     "exception": false,
     "start_time": "2024-02-08T14:29:55.285312",
     "status": "completed"
    },
    "tags": []
   },
   "outputs": [],
   "source": [
    "submission.head()"
   ]
  },
  {
   "cell_type": "markdown",
   "id": "908a848b",
   "metadata": {
    "papermill": {
     "duration": 0.0152,
     "end_time": "2024-02-08T14:29:55.402548",
     "exception": false,
     "start_time": "2024-02-08T14:29:55.387348",
     "status": "completed"
    },
    "tags": []
   },
   "source": [
    "## **Next Steps**\n",
    "\n",
    "This section outlines the next steps to enhance the model's performance further. These steps include additional feature engineering, feature selection, feature importance analysis, and evaluating other models.\n",
    "\n",
    "### Additional Feature Engineering\n",
    "\n",
    "- **Create Interaction Features**: Investigate potential interactions between features that could be predictive of the outcome.\n",
    "- **Polynomial Features**: Generate polynomial features for the numeric variables to capture non-linear relationships.\n",
    "- **Encoding Categorical Variables**: Explore different encoding strategies (e.g., one-hot encoding, target encoding) for categorical variables.\n",
    "\n",
    "### Feature Selection\n",
    "\n",
    "- **Correlation Analysis**: Remove highly correlated features to reduce multicollinearity.\n",
    "- **Importance-Based Selection**: Utilize model-based feature importance to retain the most relevant features.\n",
    "- **Wrapper Methods**: Experiment with forward selection, backward elimination, or recursive feature elimination (RFE) techniques.\n",
    "\n",
    "### Feature Importance Analysis\n",
    "\n",
    "- **Model-Based Importance**: Use tree-based models (e.g., Random Forest, XGBoost) to evaluate feature importance.\n",
    "- **Permutation Importance**: Assess the impact of shuffling each feature on the model's performance to identify crucial features.\n",
    "- **SHAP Values**: Utilize SHAP (SHapley Additive exPlanations) to interpret the model's predictions and understand the impact of each feature.\n",
    "\n",
    "### Evaluating Other Models\n",
    "\n",
    "- **Compare Different Models**: Evaluate the performance of various machine learning models (e.g., SVM, Neural Networks, Ensemble Models).\n",
    "- **Hyperparameter Tuning**: Perform hyperparameter tuning on other models to find the optimal settings.\n",
    "- **Stacking/Ensembling**: Explore stacking or ensembling methods to combine predictions from multiple models for improved accuracy.\n",
    "\n",
    "### Model Evaluation and Validation\n",
    "\n",
    "- **Cross-Validation**: Use cross-validation techniques to assess the model's performance more reliably.\n",
    "- **Performance Metrics**: Evaluate the models using appropriate metrics (e.g., AUC, accuracy, F1 score) for your specific problem.\n",
    "- **Validation Curves**: Plot validation curves to identify overfitting or underfitting.\n",
    "- **Learning Curves**: Analyze learning curves to understand how well the model is learning from the training data.\n"
   ]
  }
 ],
 "metadata": {
  "kaggle": {
   "accelerator": "none",
   "dataSources": [
    {
     "databundleVersionId": 7602123,
     "sourceId": 50160,
     "sourceType": "competition"
    }
   ],
   "dockerImageVersionId": 30646,
   "isGpuEnabled": false,
   "isInternetEnabled": false,
   "language": "python",
   "sourceType": "notebook"
  },
  "kernelspec": {
   "display_name": "Python 3",
   "language": "python",
   "name": "python3"
  },
  "language_info": {
   "codemirror_mode": {
    "name": "ipython",
    "version": 3
   },
   "file_extension": ".py",
   "mimetype": "text/x-python",
   "name": "python",
   "nbconvert_exporter": "python",
   "pygments_lexer": "ipython3",
   "version": "3.10.11"
  },
  "papermill": {
   "default_parameters": {},
   "duration": 595.243093,
   "end_time": "2024-02-08T14:29:56.942208",
   "environment_variables": {},
   "exception": null,
   "input_path": "__notebook__.ipynb",
   "output_path": "__notebook__.ipynb",
   "parameters": {},
   "start_time": "2024-02-08T14:20:01.699115",
   "version": "2.5.0"
  }
 },
 "nbformat": 4,
 "nbformat_minor": 5
}
